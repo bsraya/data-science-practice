{
 "cells": [
  {
   "attachments": {},
   "cell_type": "markdown",
   "metadata": {},
   "source": [
    "#### Problem 1: Mean Imputation\n",
    "\n",
    "Dataset: Housing prices dataset\n",
    "\n",
    "Task: Use sklearn.impute.SimpleImputer to perform mean imputation on missing values in the housing prices dataset."
   ]
  },
  {
   "cell_type": "code",
   "execution_count": null,
   "metadata": {},
   "outputs": [],
   "source": []
  },
  {
   "attachments": {},
   "cell_type": "markdown",
   "metadata": {},
   "source": [
    "#### Problem 2: Median Imputation\n",
    "\n",
    "Dataset: Titanic survival dataset\n",
    "\n",
    "Task: Apply sklearn.impute.SimpleImputer to perform median imputation on missing values in the Titanic survival dataset.\n"
   ]
  },
  {
   "cell_type": "code",
   "execution_count": null,
   "metadata": {},
   "outputs": [],
   "source": []
  },
  {
   "attachments": {},
   "cell_type": "markdown",
   "metadata": {},
   "source": [
    "#### Problem 3: Most Frequent Imputation\n",
    "\n",
    "Dataset: Credit card default dataset\n",
    "\n",
    "Task: Utilize sklearn.impute.SimpleImputer to perform most frequent imputation on missing values in the credit card default dataset."
   ]
  },
  {
   "cell_type": "code",
   "execution_count": null,
   "metadata": {},
   "outputs": [],
   "source": []
  },
  {
   "attachments": {},
   "cell_type": "markdown",
   "metadata": {},
   "source": [
    "#### Problem 4: Constant Imputation\n",
    "\n",
    "Dataset: Customer churn dataset\n",
    "\n",
    "Task: Implement sklearn.impute.SimpleImputer to perform constant imputation on missing values in the customer churn dataset."
   ]
  },
  {
   "cell_type": "code",
   "execution_count": null,
   "metadata": {},
   "outputs": [],
   "source": []
  },
  {
   "attachments": {},
   "cell_type": "markdown",
   "metadata": {},
   "source": [
    "#### Problem 5: K-Nearest Neighbors Imputation\n",
    "\n",
    "Dataset: Iris flowers dataset\n",
    "\n",
    "Task: Use sklearn.impute.KNNImputer to perform k-nearest neighbors imputation on missing values in the iris flowers dataset."
   ]
  },
  {
   "cell_type": "code",
   "execution_count": null,
   "metadata": {},
   "outputs": [],
   "source": []
  },
  {
   "attachments": {},
   "cell_type": "markdown",
   "metadata": {},
   "source": [
    "#### Problem 6: Iterative Imputation\n",
    "\n",
    "Dataset: Wine quality dataset\n",
    "\n",
    "Task: Apply sklearn.impute.IterativeImputer to perform iterative imputation on missing values in the wine quality dataset."
   ]
  },
  {
   "cell_type": "code",
   "execution_count": null,
   "metadata": {},
   "outputs": [],
   "source": []
  }
 ],
 "metadata": {
  "language_info": {
   "name": "python"
  },
  "orig_nbformat": 4
 },
 "nbformat": 4,
 "nbformat_minor": 2
}
