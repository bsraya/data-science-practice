{
 "cells": [
  {
   "attachments": {},
   "cell_type": "markdown",
   "metadata": {},
   "source": [
    "### Problem 1: Feature Scaling\n",
    "\n",
    "Dataset: Iris flowers dataset\n",
    "\n",
    "Task: Apply feature scaling using sklearn.preprocessing.StandardScaler to standardize the features of the iris flowers dataset."
   ]
  },
  {
   "cell_type": "code",
   "execution_count": null,
   "metadata": {},
   "outputs": [],
   "source": []
  },
  {
   "attachments": {},
   "cell_type": "markdown",
   "metadata": {},
   "source": [
    "### Problem 2: One-Hot Encoding\n",
    "\n",
    "Dataset: Housing prices dataset\n",
    "\n",
    "Task: Perform one-hot encoding using sklearn.preprocessing.OneHotEncoder to encode categorical features in the housing prices dataset."
   ]
  },
  {
   "cell_type": "code",
   "execution_count": null,
   "metadata": {},
   "outputs": [],
   "source": []
  },
  {
   "attachments": {},
   "cell_type": "markdown",
   "metadata": {},
   "source": [
    "### Problem 3: Label Encoding\n",
    "\n",
    "Dataset: Titanic survival dataset\n",
    "\n",
    "Task: Use sklearn.preprocessing.LabelEncoder to encode the categorical target variable in the Titanic survival dataset."
   ]
  },
  {
   "cell_type": "code",
   "execution_count": null,
   "metadata": {},
   "outputs": [],
   "source": []
  },
  {
   "attachments": {},
   "cell_type": "markdown",
   "metadata": {},
   "source": [
    "### Problem 4: Missing Value Imputation\n",
    "\n",
    "Dataset: Customer churn dataset\n",
    "\n",
    "Task: Impute missing values using sklearn.preprocessing.SimpleImputer to handle missing data in the customer churn dataset."
   ]
  },
  {
   "cell_type": "code",
   "execution_count": null,
   "metadata": {},
   "outputs": [],
   "source": []
  },
  {
   "attachments": {},
   "cell_type": "markdown",
   "metadata": {},
   "source": [
    "### Problem 5: Polynomial Features\n",
    "\n",
    "Dataset: Boston housing dataset\n",
    "\n",
    "Task: Generate polynomial features using sklearn.preprocessing.PolynomialFeatures to create higher-order terms in the Boston housing dataset."
   ]
  },
  {
   "cell_type": "code",
   "execution_count": null,
   "metadata": {},
   "outputs": [],
   "source": []
  },
  {
   "attachments": {},
   "cell_type": "markdown",
   "metadata": {},
   "source": [
    "### Problem 6: Binarization\n",
    "\n",
    "Dataset: SMS spam detection dataset\n",
    "\n",
    "Task: Binarize features using sklearn.preprocessing.Binarizer to convert numerical features into binary values in the SMS spam detection dataset."
   ]
  },
  {
   "cell_type": "code",
   "execution_count": null,
   "metadata": {},
   "outputs": [],
   "source": []
  },
  {
   "attachments": {},
   "cell_type": "markdown",
   "metadata": {},
   "source": [
    "### Problem 7: Feature Scaling with Outliers\n",
    "\n",
    "Dataset: Credit card default dataset\n",
    "\n",
    "Task: Apply feature scaling with robustness to outliers using sklearn.preprocessing.RobustScaler to scale the features of the credit card default dataset.\n"
   ]
  },
  {
   "cell_type": "code",
   "execution_count": null,
   "metadata": {},
   "outputs": [],
   "source": []
  },
  {
   "attachments": {},
   "cell_type": "markdown",
   "metadata": {},
   "source": [
    "### Problem 8: Power Transformation\n",
    "\n",
    "Dataset: Wine quality dataset\n",
    "\n",
    "Task: Perform power transformation using sklearn.preprocessing.PowerTransformer to achieve a more Gaussian-like distribution of features in the wine quality dataset."
   ]
  },
  {
   "cell_type": "code",
   "execution_count": null,
   "metadata": {},
   "outputs": [],
   "source": []
  },
  {
   "attachments": {},
   "cell_type": "markdown",
   "metadata": {},
   "source": [
    "### Problem 9: Quantile Transformation\n",
    "\n",
    "Dataset: California housing dataset\n",
    "\n",
    "Task: Apply quantile transformation using sklearn.preprocessing.QuantileTransformer to transform the features of the California housing dataset into a uniform or Gaussian distribution."
   ]
  },
  {
   "cell_type": "code",
   "execution_count": null,
   "metadata": {},
   "outputs": [],
   "source": []
  },
  {
   "attachments": {},
   "cell_type": "markdown",
   "metadata": {},
   "source": [
    "### Problem 10: Custom Transformation\n",
    "\n",
    "Dataset: Breast cancer dataset\n",
    "\n",
    "Task: Implement a custom transformation using sklearn.preprocessing.FunctionTransformer to perform a specific data transformation (e.g., logarithmic transformation) on the features of the breast cancer dataset."
   ]
  },
  {
   "cell_type": "code",
   "execution_count": null,
   "metadata": {},
   "outputs": [],
   "source": []
  }
 ],
 "metadata": {
  "language_info": {
   "name": "python"
  },
  "orig_nbformat": 4
 },
 "nbformat": 4,
 "nbformat_minor": 2
}
