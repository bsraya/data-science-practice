{
 "cells": [
  {
   "attachments": {},
   "cell_type": "markdown",
   "metadata": {},
   "source": [
    "### Problem 1: Cross-Validation\n",
    "\n",
    "Dataset: Housing prices dataset\n",
    "\n",
    "Task: Implement k-fold cross-validation using sklearn.model_selection.KFold and evaluate the performance of a regression model (e.g., Linear Regression) on predicting house prices."
   ]
  },
  {
   "cell_type": "code",
   "execution_count": null,
   "metadata": {},
   "outputs": [],
   "source": []
  },
  {
   "attachments": {},
   "cell_type": "markdown",
   "metadata": {},
   "source": [
    "### Problem 2: Grid Search\n",
    "\n",
    "Dataset: Breast cancer dataset\n",
    "\n",
    "Task: Use sklearn.model_selection.GridSearchCV to perform grid search and find the best hyperparameters for a classifier (e.g., Support Vector Machine) in classifying breast tumors as benign or malignant."
   ]
  },
  {
   "cell_type": "code",
   "execution_count": null,
   "metadata": {},
   "outputs": [],
   "source": []
  },
  {
   "attachments": {},
   "cell_type": "markdown",
   "metadata": {},
   "source": [
    "### Problem 3: Randomized Search\n",
    "\n",
    "Dataset: Iris flowers dataset\n",
    "\n",
    "Task: Apply sklearn.model_selection.RandomizedSearchCV to optimize the hyperparameters of a classifier (e.g., Random Forest) in classifying iris flowers into different species."
   ]
  },
  {
   "cell_type": "code",
   "execution_count": null,
   "metadata": {},
   "outputs": [],
   "source": []
  },
  {
   "attachments": {},
   "cell_type": "markdown",
   "metadata": {},
   "source": [
    "### Problem 4: Train-Test Split\n",
    "\n",
    "Dataset: Credit card default dataset\n",
    "\n",
    "Task: Split the dataset into training and testing sets using sklearn.model_selection.train_test_split. Train a classifier (e.g., Logistic Regression) on the training set and evaluate its performance on the testing set."
   ]
  },
  {
   "cell_type": "code",
   "execution_count": null,
   "metadata": {},
   "outputs": [],
   "source": []
  },
  {
   "attachments": {},
   "cell_type": "markdown",
   "metadata": {},
   "source": [
    "### Problem 5: Stratified Cross-Validation\n",
    "\n",
    "Dataset: Customer churn dataset\n",
    "\n",
    "Task: Implement stratified k-fold cross-validation using sklearn.model_selection.StratifiedKFold and evaluate the performance of a classifier (e.g., Random Forest) on predicting customer churn."
   ]
  },
  {
   "cell_type": "code",
   "execution_count": null,
   "metadata": {},
   "outputs": [],
   "source": []
  },
  {
   "attachments": {},
   "cell_type": "markdown",
   "metadata": {},
   "source": [
    "### Problem 6: Nested Cross-Validation\n",
    "\n",
    "Dataset: Wine quality dataset\n",
    "\n",
    "Task: Perform nested cross-validation using sklearn.model_selection.cross_val_score and evaluate the performance of a classifier (e.g., Gradient Boosting) on predicting the quality of wines."
   ]
  },
  {
   "cell_type": "code",
   "execution_count": null,
   "metadata": {},
   "outputs": [],
   "source": []
  },
  {
   "attachments": {},
   "cell_type": "markdown",
   "metadata": {},
   "source": [
    "### Problem 7: Model Selection\n",
    "\n",
    "Dataset: Diabetes dataset\n",
    "\n",
    "Task: Use sklearn.model_selection.cross_validate to compare the performance of multiple classifiers (e.g., Logistic Regression, Decision Tree, SVM) in predicting diabetes."
   ]
  },
  {
   "cell_type": "code",
   "execution_count": null,
   "metadata": {},
   "outputs": [],
   "source": []
  },
  {
   "attachments": {},
   "cell_type": "markdown",
   "metadata": {},
   "source": [
    "### Problem 8: Time Series Cross-Validation\n",
    "\n",
    "Dataset: Stock market prices dataset\n",
    "\n",
    "Task: Implement time series cross-validation using sklearn.model_selection.TimeSeriesSplit and evaluate the performance of a regression model (e.g., Ridge Regression) on predicting future stock prices."
   ]
  },
  {
   "cell_type": "code",
   "execution_count": null,
   "metadata": {},
   "outputs": [],
   "source": []
  },
  {
   "attachments": {},
   "cell_type": "markdown",
   "metadata": {},
   "source": [
    "### Problem 9: Shuffle-Split Cross-Validation\n",
    "\n",
    "Dataset: SMS spam detection dataset\n",
    "\n",
    "Task: Apply shuffle-split cross-validation using sklearn.model_selection.ShuffleSplit and evaluate the performance of a classifier (e.g., Naive Bayes) on classifying SMS messages as spam or ham."
   ]
  },
  {
   "cell_type": "code",
   "execution_count": null,
   "metadata": {},
   "outputs": [],
   "source": []
  },
  {
   "attachments": {},
   "cell_type": "markdown",
   "metadata": {},
   "source": [
    "### Problem 10: Leave-One-Out Cross-Validation\n",
    "\n",
    "Dataset: Boston housing dataset\n",
    "\n",
    "Task: Implement leave-one-out cross-validation using sklearn.model_selection.LeaveOneOut and evaluate the performance of a regression model (e.g., Lasso Regression) on predicting house prices."
   ]
  },
  {
   "cell_type": "code",
   "execution_count": null,
   "metadata": {},
   "outputs": [],
   "source": []
  }
 ],
 "metadata": {
  "language_info": {
   "name": "python"
  },
  "orig_nbformat": 4
 },
 "nbformat": 4,
 "nbformat_minor": 2
}
