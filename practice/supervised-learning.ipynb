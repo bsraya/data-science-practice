{
 "cells": [
  {
   "cell_type": "code",
   "execution_count": 1,
   "metadata": {},
   "outputs": [],
   "source": [
    "# import libraries here\n"
   ]
  },
  {
   "attachments": {},
   "cell_type": "markdown",
   "metadata": {},
   "source": [
    "### Problem 1: Linear Regression\n",
    "\n",
    "Dataset: Housing prices dataset\n",
    "\n",
    "Task: Predict the prices of houses based on their features using linear regression."
   ]
  },
  {
   "cell_type": "code",
   "execution_count": null,
   "metadata": {},
   "outputs": [],
   "source": []
  },
  {
   "attachments": {},
   "cell_type": "markdown",
   "metadata": {},
   "source": [
    "### Problem 2: Logistic Regression\n",
    "\n",
    "Dataset: Titanic survival dataset\n",
    "\n",
    "Task: Build a model to predict whether a passenger survived or not using logistic regression."
   ]
  },
  {
   "cell_type": "code",
   "execution_count": null,
   "metadata": {},
   "outputs": [],
   "source": []
  },
  {
   "attachments": {},
   "cell_type": "markdown",
   "metadata": {},
   "source": [
    "### Problem 3: Support Vector Machines (SVM)\n",
    "\n",
    "Dataset: Iris flowers dataset\n",
    "\n",
    "Task: Classify the iris flowers into different species using support vector machines."
   ]
  },
  {
   "cell_type": "code",
   "execution_count": null,
   "metadata": {},
   "outputs": [],
   "source": []
  },
  {
   "attachments": {},
   "cell_type": "markdown",
   "metadata": {},
   "source": [
    "### Problem 4: Decision Trees\n",
    "\n",
    "Dataset: Wine quality dataset\n",
    "\n",
    "Task: Build a decision tree model to predict the quality of wines based on their chemical properties."
   ]
  },
  {
   "cell_type": "code",
   "execution_count": null,
   "metadata": {},
   "outputs": [],
   "source": []
  },
  {
   "attachments": {},
   "cell_type": "markdown",
   "metadata": {},
   "source": [
    "### Problem 5: Random Forests\n",
    "\n",
    "Dataset: Breast cancer dataset\n",
    "\n",
    "Task: Use a random forest classifier to predict whether a breast tumor is benign or malignant."
   ]
  },
  {
   "cell_type": "code",
   "execution_count": null,
   "metadata": {},
   "outputs": [],
   "source": []
  },
  {
   "attachments": {},
   "cell_type": "markdown",
   "metadata": {},
   "source": [
    "### Problem 6: Naive Bayes\n",
    "\n",
    "Dataset: SMS spam detection dataset\n",
    "\n",
    "Task: Develop a model to classify SMS messages as spam or ham (non-spam) using naive Bayes."
   ]
  },
  {
   "cell_type": "code",
   "execution_count": null,
   "metadata": {},
   "outputs": [],
   "source": []
  },
  {
   "attachments": {},
   "cell_type": "markdown",
   "metadata": {},
   "source": [
    "### Problem 7: k-Nearest Neighbors (KNN)\n",
    "\n",
    "Dataset: Customer churn dataset\n",
    "\n",
    "Task: Predict whether a customer will churn or not based on their behavior using k-nearest neighbors."
   ]
  },
  {
   "cell_type": "code",
   "execution_count": null,
   "metadata": {},
   "outputs": [],
   "source": []
  },
  {
   "attachments": {},
   "cell_type": "markdown",
   "metadata": {},
   "source": [
    "### Problem 8: Multi-Layer Perceptron (MLP)\n",
    "\n",
    "Dataset: Handwritten digits dataset (MNIST)\n",
    "\n",
    "Task: Train a multi-layer perceptron model to recognize handwritten digits."
   ]
  },
  {
   "cell_type": "code",
   "execution_count": null,
   "metadata": {},
   "outputs": [],
   "source": []
  },
  {
   "attachments": {},
   "cell_type": "markdown",
   "metadata": {},
   "source": [
    "### Problem 9: Gaussian Process Regression\n",
    "\n",
    "Dataset: Boston housing dataset\n",
    "\n",
    "Task: Use Gaussian process regression to predict the median value of owner-occupied homes in Boston."
   ]
  },
  {
   "cell_type": "code",
   "execution_count": null,
   "metadata": {},
   "outputs": [],
   "source": []
  },
  {
   "attachments": {},
   "cell_type": "markdown",
   "metadata": {},
   "source": [
    "### Problem 10: Gradient Boosting\n",
    "\n",
    "Dataset: Credit card default dataset\n",
    "\n",
    "Task: Predict whether a credit card holder will default based on their demographic and payment history using gradient boosting.\n"
   ]
  },
  {
   "cell_type": "code",
   "execution_count": null,
   "metadata": {},
   "outputs": [],
   "source": []
  },
  {
   "attachments": {},
   "cell_type": "markdown",
   "metadata": {},
   "source": [
    "### Problem 11: Quadratic Discriminant Analysis (QDA)\n",
    "\n",
    "Dataset: Wine dataset\n",
    "\n",
    "Task: Classify wines into different categories using quadratic discriminant analysis."
   ]
  },
  {
   "cell_type": "code",
   "execution_count": null,
   "metadata": {},
   "outputs": [],
   "source": []
  },
  {
   "attachments": {},
   "cell_type": "markdown",
   "metadata": {},
   "source": [
    "### Problem 12: AdaBoost Classifier\n",
    "\n",
    "Dataset: Bank marketing dataset\n",
    "\n",
    "Task: Use an AdaBoost classifier to predict whether a client will subscribe to a term deposit or not."
   ]
  },
  {
   "cell_type": "code",
   "execution_count": null,
   "metadata": {},
   "outputs": [],
   "source": []
  },
  {
   "attachments": {},
   "cell_type": "markdown",
   "metadata": {},
   "source": [
    "### Problem 13: eXtreme Gradient Boosting (XGBoost)\n",
    "\n",
    "Dataset: Airbnb rental prices dataset\n",
    "\n",
    "Task: Predict the rental prices of Airbnb listings using XGBoost regression."
   ]
  },
  {
   "cell_type": "code",
   "execution_count": null,
   "metadata": {},
   "outputs": [],
   "source": []
  },
  {
   "attachments": {},
   "cell_type": "markdown",
   "metadata": {},
   "source": [
    "### Problem 14: One-vs-Rest Classifier\n",
    "\n",
    "Dataset: Handwritten letters dataset (MNIST)\n",
    "\n",
    "Task: Build a one-vs-rest classifier to recognize handwritten letters."
   ]
  },
  {
   "cell_type": "code",
   "execution_count": null,
   "metadata": {},
   "outputs": [],
   "source": []
  },
  {
   "attachments": {},
   "cell_type": "markdown",
   "metadata": {},
   "source": [
    "### Problem 15: One-vs-One Classifier\n",
    "\n",
    "Dataset: Amazon product reviews dataset\n",
    "\n",
    "Task: Classify product reviews into different sentiment categories using a one-vs-one classifier."
   ]
  },
  {
   "cell_type": "code",
   "execution_count": null,
   "metadata": {},
   "outputs": [],
   "source": []
  }
 ],
 "metadata": {
  "kernelspec": {
   "display_name": "py310",
   "language": "python",
   "name": "python3"
  },
  "language_info": {
   "codemirror_mode": {
    "name": "ipython",
    "version": 3
   },
   "file_extension": ".py",
   "mimetype": "text/x-python",
   "name": "python",
   "nbconvert_exporter": "python",
   "pygments_lexer": "ipython3",
   "version": "3.10.6"
  },
  "orig_nbformat": 4
 },
 "nbformat": 4,
 "nbformat_minor": 2
}
